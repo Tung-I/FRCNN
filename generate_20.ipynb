{
 "cells": [
  {
   "cell_type": "code",
   "execution_count": 7,
   "metadata": {},
   "outputs": [],
   "source": [
    "import json\n",
    "import os\n",
    "import re\n",
    "import fnmatch\n",
    "from pathlib import Path\n",
    "import numpy as np\n",
    "import cv2\n",
    "import copy\n",
    "import random\n",
    "import xml.etree.ElementTree as ET\n",
    "from matplotlib import pyplot as plt\n",
    "from tqdm import tqdm_notebook as tqdm\n",
    "from pycocotools.coco import COCO"
   ]
  },
  {
   "cell_type": "code",
   "execution_count": 8,
   "metadata": {},
   "outputs": [],
   "source": [
    "cls_ind_in_coco_set1 = [1, 2, 3, 4, 5, 6, 7, 9, 16, 17, 18, 19, 20, 21, 44, 62, 63, 64, 67, 72]\n",
    "cls_ind_in_coco_set2 = [85, 43, 78, 87, 47, 11, 35, 53, 52, 46, 38, 51, 41, 58, 32, 82, 24, 37, 73, 22]\n",
    "cls_ind_in_coco_set3 = [60, 65, 13, 48, 79, 77, 61, 54, 76, 34, 50, 74, 25, 86, 15, 31, 80, 14, 84, 28]\n",
    "cls_ind_in_coco_set4 = [8, 10, 23, 27, 33, 36, 39, 40, 42, 49, 55, 56, 57, 59, 70, 75, 81, 88, 89, 90]"
   ]
  },
  {
   "cell_type": "code",
   "execution_count": 9,
   "metadata": {},
   "outputs": [
    {
     "data": {
      "application/vnd.jupyter.widget-view+json": {
       "model_id": "ce329c466e8d4a18a0deb4fdbdb7abab",
       "version_major": 2,
       "version_minor": 0
      },
      "text/plain": [
       "HBox(children=(IntProgress(value=1, bar_style='info', max=1), HTML(value='')))"
      ]
     },
     "metadata": {},
     "output_type": "display_data"
    },
    {
     "name": "stdout",
     "output_type": "stream",
     "text": [
      "\n"
     ]
    }
   ],
   "source": [
    "cwd = os.getcwd()\n",
    "coco_json_path = cwd + '/data/coco/annotations/instances_train2014.json'\n",
    "with open(coco_json_path, 'r') as f:\n",
    "    data = json.load(f)\n",
    "\n",
    "im_summary = {}\n",
    "for i, im_d in tqdm(enumerate(data['images'])):\n",
    "    im_summary[str(im_d['id'])] = {}\n",
    "    im_summary[str(im_d['id'])]['im_dict'] = im_d\n",
    "    im_summary[str(im_d['id'])]['annotations'] = []\n",
    "    im_summary[str(im_d['id'])]['categories'] = []\n",
    "for j, a_d in enumerate(data['annotations']):\n",
    "    if a_d['iscrowd'] == 0:  # only keep non-crowd annotations\n",
    "        im_id = a_d['image_id']\n",
    "        cat_id = a_d['category_id']\n",
    "        im_summary[str(im_id)]['annotations'].append(a_d)\n",
    "        im_summary[str(im_id)]['categories'].append(cat_id)\n",
    "for _key in im_summary.keys():\n",
    "    im_summary[_key]['categories'] = list(set(im_summary[_key]['categories']))"
   ]
  },
  {
   "cell_type": "code",
   "execution_count": 10,
   "metadata": {},
   "outputs": [],
   "source": [
    "novel_cls_inds = cls_ind_in_coco_set1\n",
    "new_categories = []\n",
    "for cat in data['categories']:\n",
    "    if cat['id'] in novel_cls_inds:\n",
    "        new_categories.append(cat)\n",
    "\n",
    "MIN_SIZE = 16\n",
    "cat_and_their_im_id = []\n",
    "for i, c_d in enumerate(new_categories):\n",
    "    cat_dict = {}\n",
    "    cat_id = c_d['id']\n",
    "    cat_dict['cat_id'] = cat_id\n",
    "    cat_dict['im_ids'] = []\n",
    "    for _key in im_summary.keys():  # for every im\n",
    "        im_dict = im_summary[_key]\n",
    "        if cat_id in im_dict['categories']:  # if this im has this class\n",
    "            valid_an = []\n",
    "            for an in im_dict['annotations']:  # for annos of this im\n",
    "                if an['category_id'] == cat_id:\n",
    "                    if an['bbox'][2] < MIN_SIZE or an['bbox'][3] < MIN_SIZE:\n",
    "                        continue\n",
    "                    else:\n",
    "                        valid_an.append(an)\n",
    "            if len(valid_an) > 0:  # only keep those id have more than one valid box of this class\n",
    "                cat_dict['im_ids'].append(_key)           \n",
    "    cat_and_their_im_id.append(cat_dict)\n",
    "cat_and_their_im_id.sort(key=lambda s: len(s['im_ids']))"
   ]
  },
  {
   "cell_type": "code",
   "execution_count": 11,
   "metadata": {},
   "outputs": [],
   "source": [
    "cwd = os.getcwd()\n",
    "dump_dir = '/home/tony/datasets/coco/annotations/ft'\n",
    "if not os.path.exists(dump_dir):\n",
    "    os.makedirs(dump_dir)\n",
    "IM_PER_CLASS = 10\n",
    "\n",
    "\n",
    "### generate query json\n",
    "id_have_selected = []\n",
    "episode = []\n",
    "for cat_dict in cat_and_their_im_id:\n",
    "    new_dict = {}\n",
    "    cat_id = cat_dict['cat_id']\n",
    "    ids = cat_dict['im_ids']\n",
    "    for _id in id_have_selected:  # remove im that has been picked\n",
    "        if _id in ids:\n",
    "            ids.remove(_id)\n",
    "    random.seed(0)\n",
    "    selected_ids = random.sample(ids, k=IM_PER_CLASS)\n",
    "    id_have_selected.extend(selected_ids)\n",
    "    new_dict['cat_id'] = cat_id\n",
    "    new_dict['im_ids'] = selected_ids\n",
    "    episode.append(new_dict)\n",
    "\n",
    "new_data = {}\n",
    "new_data['info'] = data['info']\n",
    "new_data['images'] = []\n",
    "new_data['licenses'] = data['licenses']\n",
    "new_data['annotations'] = []\n",
    "#     new_data['categories'] = new_categories\n",
    "new_data['categories'] = data['categories']\n",
    "for cat_dict in episode:\n",
    "    cat_id = cat_dict['cat_id']\n",
    "    id_list = cat_dict['im_ids']\n",
    "    for _id in id_list:\n",
    "        new_data['images'].append(im_summary[_id]['im_dict'])\n",
    "        for an in im_summary[_id]['annotations']:\n",
    "            if an['category_id'] == cat_id:\n",
    "                new_data['annotations'].append(an)\n",
    "dump_path = os.path.join(dump_dir, 'instances_shot10.json')\n",
    "with open(dump_path, 'w') as f:\n",
    "    json.dump(new_data, f)"
   ]
  },
  {
   "cell_type": "code",
   "execution_count": 12,
   "metadata": {},
   "outputs": [],
   "source": [
    "cwd = os.getcwd()\n",
    "dump_dir = '/home/tony/datasets/coco/annotations/ft'\n",
    "if not os.path.exists(dump_dir):\n",
    "    os.makedirs(dump_dir)\n",
    "IM_PER_CLASS = 30\n",
    "\n",
    "\n",
    "### generate query json\n",
    "id_have_selected = []\n",
    "episode = []\n",
    "for cat_dict in cat_and_their_im_id:\n",
    "    new_dict = {}\n",
    "    cat_id = cat_dict['cat_id']\n",
    "    ids = cat_dict['im_ids']\n",
    "    for _id in id_have_selected:  # remove im that has been picked\n",
    "        if _id in ids:\n",
    "            ids.remove(_id)\n",
    "    random.seed(0)\n",
    "    selected_ids = random.sample(ids, k=IM_PER_CLASS)\n",
    "    id_have_selected.extend(selected_ids)\n",
    "    new_dict['cat_id'] = cat_id\n",
    "    new_dict['im_ids'] = selected_ids\n",
    "    episode.append(new_dict)\n",
    "\n",
    "new_data = {}\n",
    "new_data['info'] = data['info']\n",
    "new_data['images'] = []\n",
    "new_data['licenses'] = data['licenses']\n",
    "new_data['annotations'] = []\n",
    "#     new_data['categories'] = new_categories\n",
    "new_data['categories'] = data['categories']\n",
    "for cat_dict in episode:\n",
    "    cat_id = cat_dict['cat_id']\n",
    "    id_list = cat_dict['im_ids']\n",
    "    for _id in id_list:\n",
    "        new_data['images'].append(im_summary[_id]['im_dict'])\n",
    "        for an in im_summary[_id]['annotations']:\n",
    "            if an['category_id'] == cat_id:\n",
    "                new_data['annotations'].append(an)\n",
    "dump_path = os.path.join(dump_dir, 'instances_shot30.json')\n",
    "with open(dump_path, 'w') as f:\n",
    "    json.dump(new_data, f)"
   ]
  },
  {
   "cell_type": "code",
   "execution_count": null,
   "metadata": {},
   "outputs": [],
   "source": []
  },
  {
   "cell_type": "code",
   "execution_count": null,
   "metadata": {},
   "outputs": [],
   "source": []
  }
 ],
 "metadata": {
  "kernelspec": {
   "display_name": "rcnn36",
   "language": "python",
   "name": "rcnn36"
  },
  "language_info": {
   "codemirror_mode": {
    "name": "ipython",
    "version": 3
   },
   "file_extension": ".py",
   "mimetype": "text/x-python",
   "name": "python",
   "nbconvert_exporter": "python",
   "pygments_lexer": "ipython3",
   "version": "3.7.3"
  }
 },
 "nbformat": 4,
 "nbformat_minor": 2
}
