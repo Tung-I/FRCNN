{
 "cells": [
  {
   "cell_type": "code",
   "execution_count": 1,
   "metadata": {},
   "outputs": [],
   "source": [
    "import json\n",
    "import os\n",
    "import re\n",
    "from pathlib import Path\n",
    "import numpy as np\n",
    "import cv2\n",
    "import copy\n",
    "import random\n",
    "import xml.etree.ElementTree as ET\n",
    "from PIL import Image\n",
    "from matplotlib import pyplot as plt\n",
    "from tqdm import tqdm_notebook as tqdm\n",
    "from pycocotools.coco import COCO"
   ]
  },
  {
   "cell_type": "markdown",
   "metadata": {},
   "source": [
    "## Stage set"
   ]
  },
  {
   "cell_type": "code",
   "execution_count": 27,
   "metadata": {},
   "outputs": [],
   "source": [
    "cls_names = ['cube', 'can', 'box', 'bottle']\n",
    "clsname2ind = {'cube':1, 'can':2, 'box':3, 'bottle':4}\n",
    "im_dir = '/home/tony/YCB_simulation/query/images'\n",
    "nd_dir = '/home/tony/YCB_simulation/query/ndarray'\n",
    "# settings = [64, 48, 32, 16]\n",
    "# stages = [4, 3, 2, 1]\n",
    "settings = [16]\n",
    "stages = [1]"
   ]
  },
  {
   "cell_type": "code",
   "execution_count": 28,
   "metadata": {},
   "outputs": [],
   "source": [
    "for stage, setting in zip(stages, settings):\n",
    "    coco_json_path = f'/home/tony/datasets/YCB2D/annotations/instances_replace{setting}.json'\n",
    "    with open(coco_json_path, 'r') as f:\n",
    "        replace_data = json.load(f)\n",
    "    coco_json_path = f'/home/tony/datasets/YCB2D/annotations/instances_pseudo{stage}.json'\n",
    "    with open(coco_json_path, 'r') as f:\n",
    "        dense_data = json.load(f)   \n",
    "    new_dict = {}\n",
    "    new_dict['info'] = replace_data['info']\n",
    "    new_dict['images'] = replace_data['images'] + dense_data['images']\n",
    "    new_dict['licenses'] = replace_data['licenses']\n",
    "    new_dict['annotations'] = replace_data['annotations'] + dense_data['annotations']\n",
    "    new_dict['categories'] = replace_data['categories']\n",
    "    dump_path = f'/home/tony/datasets/YCB2D/annotations/instances_stage{stage}.json'\n",
    "    with open(dump_path, 'w') as f:\n",
    "        json.dump(new_dict, f)"
   ]
  },
  {
   "cell_type": "code",
   "execution_count": 29,
   "metadata": {},
   "outputs": [
    {
     "name": "stdout",
     "output_type": "stream",
     "text": [
      "loading annotations into memory...\n",
      "Done (t=0.01s)\n",
      "creating index...\n",
      "index created!\n",
      "128\n",
      "177\n",
      "4\n"
     ]
    }
   ],
   "source": [
    "_COCO = COCO(dump_path)\n",
    "\n",
    "print(len(_COCO.imgs))\n",
    "print(len(_COCO.anns))\n",
    "print(len(_COCO.cats))"
   ]
  },
  {
   "cell_type": "markdown",
   "metadata": {},
   "source": [
    "## 1-replaced set"
   ]
  },
  {
   "cell_type": "code",
   "execution_count": 33,
   "metadata": {},
   "outputs": [],
   "source": [
    "cls_names = ['cube', 'can', 'box', 'bottle']\n",
    "clsname2ind = {'cube':1, 'can':2, 'box':3, 'bottle':4}\n",
    "im_dir = '/home/tony/YCB_simulation/query/images'\n",
    "nd_dir = '/home/tony/YCB_simulation/query/ndarray'\n",
    "start1, start2, start3, start4 = 100000, 100256, 100512, 100768\n",
    "settings = [96, 80, 64, 48, 32, 16]"
   ]
  },
  {
   "cell_type": "code",
   "execution_count": 34,
   "metadata": {},
   "outputs": [],
   "source": [
    "for n in settings:\n",
    "    cls_im_inds = [list(range(start1, start1+n)), list(range(start2, start2+n)), list(range(start3, start3+n)), list(range(start4, start4+n))]\n",
    "    data_categories = []\n",
    "    for cls_name in cls_names:   \n",
    "        dic = {}\n",
    "        dic['supercategory'] = 'None'\n",
    "        dic['id'] = clsname2ind[cls_name]\n",
    "        dic['name'] = cls_name\n",
    "        data_categories.append(dic)\n",
    "    data_images = []\n",
    "    data_annotations = []\n",
    "    for cls, inds in zip(cls_names, cls_im_inds):\n",
    "        for ind in inds:\n",
    "            im_file_name = str(ind).zfill(6) + '.jpg'\n",
    "            dic = {}\n",
    "            dic['license'] = 1\n",
    "            dic['file_name'] = im_file_name\n",
    "            dic['coco_url'] = 'http://farm3.staticflickr.com/2253/1755223462_fabbeb8dc3_z.jpg'\n",
    "            dic['height'] = 256\n",
    "            dic['width'] = 256\n",
    "            dic['date_captured'] = '2013-11-15 13:55:22'\n",
    "            dic['id'] = ind\n",
    "            data_images.append(dic)\n",
    "\n",
    "            ann_file_name = str(ind).zfill(6) + '.npy'\n",
    "            boxes = np.load(os.path.join(nd_dir, ann_file_name), allow_pickle=True)\n",
    "            for j in range(boxes.shape[0]):\n",
    "                box = boxes[j]\n",
    "                if box[4] != clsname2ind[cls]:\n",
    "                    continue\n",
    "                dic = {}\n",
    "                dic['segmentation'] = [[184.05]]\n",
    "                dic['area'] = 1.28\n",
    "                dic['iscrowd'] = 0\n",
    "                dic['image_id'] = ind\n",
    "                dic['bbox'] = [int(box[0]), int(box[1]), int(box[2]) - int(box[0]), int(box[3]) - int(box[1])]\n",
    "                dic['category_id'] = int(box[4])\n",
    "                dic['id'] = int(str(ind)+str(j))\n",
    "                data_annotations.append(dic)\n",
    "    coco_json_path = '/home/tony/datasets/coco/annotations/instances_minival2014.json'\n",
    "    with open(coco_json_path, 'r') as f:\n",
    "        data = json.load(f)\n",
    "    new_dict = {}\n",
    "    new_dict['info'] = data['info']\n",
    "    new_dict['images'] = data_images\n",
    "    new_dict['licenses'] = data['licenses']\n",
    "    new_dict['annotations'] = data_annotations\n",
    "    new_dict['categories'] = data_categories\n",
    "    dump_path = f'/home/tony/datasets/YCB2D/annotations/instances_replace{n}.json'\n",
    "    with open(dump_path, 'w') as f:\n",
    "        json.dump(new_dict, f)"
   ]
  },
  {
   "cell_type": "code",
   "execution_count": 35,
   "metadata": {},
   "outputs": [
    {
     "name": "stdout",
     "output_type": "stream",
     "text": [
      "loading annotations into memory...\n",
      "Done (t=0.00s)\n",
      "creating index...\n",
      "index created!\n",
      "64\n",
      "64\n",
      "4\n"
     ]
    }
   ],
   "source": [
    "_COCO = COCO(dump_path)\n",
    "\n",
    "print(len(_COCO.imgs))\n",
    "print(len(_COCO.anns))\n",
    "print(len(_COCO.cats))"
   ]
  },
  {
   "cell_type": "markdown",
   "metadata": {},
   "source": [
    "## Oracle set"
   ]
  },
  {
   "cell_type": "code",
   "execution_count": 17,
   "metadata": {},
   "outputs": [],
   "source": [
    "cls_names = ['cube', 'can', 'box', 'bottle']\n",
    "clsname2ind = {'cube':1, 'can':2, 'box':3, 'bottle':4}\n",
    "im_dir = '/home/tony/YCB_simulation/query/images'\n",
    "nd_dir = '/home/tony/YCB_simulation/query/ndarray'\n",
    "start1, start2, start3, start4 = 100000, 100256, 100512, 100768\n",
    "settings = [256, 128, 64, 32, 16, 8]"
   ]
  },
  {
   "cell_type": "code",
   "execution_count": 18,
   "metadata": {},
   "outputs": [],
   "source": [
    "for n in settings:\n",
    "    cls_im_inds = [list(range(start1, start1+n)), list(range(start2, start2+n)), list(range(start3, start3+n)), list(range(start4, start4+n))]\n",
    "    data_categories = []\n",
    "    for cls_name in cls_names:   \n",
    "        dic = {}\n",
    "        dic['supercategory'] = 'None'\n",
    "        dic['id'] = clsname2ind[cls_name]\n",
    "        dic['name'] = cls_name\n",
    "        data_categories.append(dic)\n",
    "    ann_cnt = 100000\n",
    "    data_images = []\n",
    "    data_annotations = []\n",
    "    for cls, inds in zip(cls_names, cls_im_inds):\n",
    "        for ind in inds:\n",
    "            im_file_name = str(ind).zfill(6) + '.jpg'\n",
    "            dic = {}\n",
    "            dic['license'] = 1\n",
    "            dic['file_name'] = im_file_name\n",
    "            dic['coco_url'] = 'http://farm3.staticflickr.com/2253/1755223462_fabbeb8dc3_z.jpg'\n",
    "            dic['height'] = 256\n",
    "            dic['width'] = 256\n",
    "            dic['date_captured'] = '2013-11-15 13:55:22'\n",
    "            dic['id'] = ind\n",
    "            data_images.append(dic)\n",
    "\n",
    "            ann_file_name = str(ind).zfill(6) + '.npy'\n",
    "            boxes = np.load(os.path.join(nd_dir, ann_file_name), allow_pickle=True)\n",
    "            for j in range(boxes.shape[0]):\n",
    "                box = boxes[j]\n",
    "                dic = {}\n",
    "                dic['segmentation'] = [[184.05]]\n",
    "                dic['area'] = 1.28\n",
    "                dic['iscrowd'] = 0\n",
    "                dic['image_id'] = ind\n",
    "                dic['bbox'] = [int(box[0]), int(box[1]), int(box[2]) - int(box[0]), int(box[3]) - int(box[1])]\n",
    "                dic['category_id'] = int(box[4])\n",
    "                dic['id'] = ann_cnt\n",
    "                ann_cnt += 1\n",
    "                data_annotations.append(dic)\n",
    "    coco_json_path = '/home/tony/datasets/coco/annotations/instances_minival2014.json'\n",
    "    with open(coco_json_path, 'r') as f:\n",
    "        data = json.load(f)\n",
    "    new_dict = {}\n",
    "    new_dict['info'] = data['info']\n",
    "    new_dict['images'] = data_images\n",
    "    new_dict['licenses'] = data['licenses']\n",
    "    new_dict['annotations'] = data_annotations\n",
    "    new_dict['categories'] = data_categories\n",
    "    dump_path = f'/home/tony/datasets/YCB2D/annotations/instances_oracle{n}.json'\n",
    "    with open(dump_path, 'w') as f:\n",
    "        json.dump(new_dict, f)"
   ]
  },
  {
   "cell_type": "code",
   "execution_count": 19,
   "metadata": {},
   "outputs": [
    {
     "name": "stdout",
     "output_type": "stream",
     "text": [
      "loading annotations into memory...\n",
      "Done (t=0.00s)\n",
      "creating index...\n",
      "index created!\n",
      "32\n",
      "171\n",
      "4\n"
     ]
    }
   ],
   "source": [
    "_COCO = COCO(dump_path)\n",
    "\n",
    "print(len(_COCO.imgs))\n",
    "print(len(_COCO.anns))\n",
    "print(len(_COCO.cats))"
   ]
  },
  {
   "cell_type": "code",
   "execution_count": null,
   "metadata": {},
   "outputs": [],
   "source": [
    "cls_names = ['cube', 'can', 'box', 'bottle']\n",
    "clsname2ind = {'cube':1, 'can':2, 'box':3, 'bottle':4}\n",
    "im_dir = '/home/tony/YCB_simulation/query/images'\n",
    "nd_dir = '/home/tony/YCB_simulation/query/ndarray'\n",
    "set1 = list(range(0, 50))+list(range(400, 414))\n",
    "set2 = list(range(50, 100))+list(range(414, 428))\n",
    "set3 = list(range(100, 150))+list(range(428, 442))\n",
    "set4 = list(range(150, 200))+list(range(442, 456))\n",
    "settings = [set1, set2, set3, set4]"
   ]
  },
  {
   "cell_type": "code",
   "execution_count": null,
   "metadata": {},
   "outputs": [],
   "source": [
    "data_categories = []\n",
    "for cls_name in cls_names:   \n",
    "    dic = {}\n",
    "    dic['supercategory'] = 'None'\n",
    "    dic['id'] = clsname2ind[cls_name]\n",
    "    dic['name'] = cls_name\n",
    "    data_categories.append(dic)\n",
    "for cls_im_inds in settings:\n",
    "    data_images = []\n",
    "    data_annotations = []\n",
    "    for cls, inds in zip(cls_names, cls_im_inds):\n",
    "        for ind in inds:\n",
    "            im_file_name = str(ind).zfill(6) + '.jpg'\n",
    "            dic = {}\n",
    "            dic['license'] = 1\n",
    "            dic['file_name'] = im_file_name\n",
    "            dic['coco_url'] = 'http://farm3.staticflickr.com/2253/1755223462_fabbeb8dc3_z.jpg'\n",
    "            dic['height'] = 256\n",
    "            dic['width'] = 256\n",
    "            dic['date_captured'] = '2013-11-15 13:55:22'\n",
    "            dic['id'] = ind\n",
    "            data_images.append(dic)\n",
    "\n",
    "            ann_file_name = str(ind).zfill(6) + '.npy'\n",
    "            boxes = np.load(os.path.join(nd_dir, ann_file_name), allow_pickle=True)\n",
    "            for j in range(boxes.shape[0]):\n",
    "                box = boxes[j]\n",
    "                dic = {}\n",
    "                dic['segmentation'] = [[184.05]]\n",
    "                dic['area'] = 1.28\n",
    "                dic['iscrowd'] = 0\n",
    "                dic['image_id'] = ind\n",
    "                dic['bbox'] = [int(box[0]), int(box[1]), int(box[2]) - int(box[0]), int(box[3]) - int(box[1])]\n",
    "                dic['category_id'] = int(box[4])\n",
    "                dic['id'] = int(str(ind) + str(j))\n",
    "                data_annotations.append(dic)\n",
    "    coco_json_path = '/home/tony/datasets/coco/annotations/instances_minival2014.json'\n",
    "    with open(coco_json_path, 'r') as f:\n",
    "        data = json.load(f)\n",
    "    new_dict = {}\n",
    "    new_dict['info'] = data['info']\n",
    "    new_dict['images'] = data_images\n",
    "    new_dict['licenses'] = data['licenses']\n",
    "    new_dict['annotations'] = data_annotations\n",
    "    new_dict['categories'] = data_categories\n",
    "    dump_path = f'/home/tony/datasets/YCB2D/annotations/instances_oracledense64.json'\n",
    "    with open(dump_path, 'w') as f:\n",
    "        json.dump(new_dict, f)"
   ]
  },
  {
   "cell_type": "code",
   "execution_count": null,
   "metadata": {},
   "outputs": [],
   "source": [
    "cls_names = ['cube', 'can', 'box', 'bottle']\n",
    "clsname2ind = {'cube':1, 'can':2, 'box':3, 'bottle':4}\n",
    "im_dir = '/home/tony/YCB_simulation/query/images'\n",
    "nd_dir = '/home/tony/YCB_simulation/query/ndarray'\n",
    "set1 = list(range(0, 16))\n",
    "set2 = list(range(50, 64))\n",
    "set3 = list(range(100, 116))\n",
    "set4 = list(range(150, 164))\n",
    "settings = [set1, set2, set3, set4]"
   ]
  },
  {
   "cell_type": "code",
   "execution_count": null,
   "metadata": {},
   "outputs": [],
   "source": [
    "data_categories = []\n",
    "for cls_name in cls_names:   \n",
    "    dic = {}\n",
    "    dic['supercategory'] = 'None'\n",
    "    dic['id'] = clsname2ind[cls_name]\n",
    "    dic['name'] = cls_name\n",
    "    data_categories.append(dic)\n",
    "for cls_im_inds in settings:\n",
    "    data_images = []\n",
    "    data_annotations = []\n",
    "    for cls, inds in zip(cls_names, cls_im_inds):\n",
    "        for ind in inds:\n",
    "            im_file_name = str(ind).zfill(6) + '.jpg'\n",
    "            dic = {}\n",
    "            dic['license'] = 1\n",
    "            dic['file_name'] = im_file_name\n",
    "            dic['coco_url'] = 'http://farm3.staticflickr.com/2253/1755223462_fabbeb8dc3_z.jpg'\n",
    "            dic['height'] = 256\n",
    "            dic['width'] = 256\n",
    "            dic['date_captured'] = '2013-11-15 13:55:22'\n",
    "            dic['id'] = ind\n",
    "            data_images.append(dic)\n",
    "\n",
    "            ann_file_name = str(ind).zfill(6) + '.npy'\n",
    "            boxes = np.load(os.path.join(nd_dir, ann_file_name), allow_pickle=True)\n",
    "            for j in range(boxes.shape[0]):\n",
    "                box = boxes[j]\n",
    "                dic = {}\n",
    "                dic['segmentation'] = [[184.05]]\n",
    "                dic['area'] = 1.28\n",
    "                dic['iscrowd'] = 0\n",
    "                dic['image_id'] = ind\n",
    "                dic['bbox'] = [int(box[0]), int(box[1]), int(box[2]) - int(box[0]), int(box[3]) - int(box[1])]\n",
    "                dic['category_id'] = int(box[4])\n",
    "                dic['id'] = int(str(ind) + str(j))\n",
    "                data_annotations.append(dic)\n",
    "    coco_json_path = '/home/tony/datasets/coco/annotations/instances_minival2014.json'\n",
    "    with open(coco_json_path, 'r') as f:\n",
    "        data = json.load(f)\n",
    "    new_dict = {}\n",
    "    new_dict['info'] = data['info']\n",
    "    new_dict['images'] = data_images\n",
    "    new_dict['licenses'] = data['licenses']\n",
    "    new_dict['annotations'] = data_annotations\n",
    "    new_dict['categories'] = data_categories\n",
    "    dump_path = f'/home/tony/datasets/YCB2D/annotations/instances_oracledense16.json'\n",
    "    with open(dump_path, 'w') as f:\n",
    "        json.dump(new_dict, f)"
   ]
  }
 ],
 "metadata": {
  "kernelspec": {
   "display_name": "rcnn36",
   "language": "python",
   "name": "rcnn36"
  },
  "language_info": {
   "codemirror_mode": {
    "name": "ipython",
    "version": 3
   },
   "file_extension": ".py",
   "mimetype": "text/x-python",
   "name": "python",
   "nbconvert_exporter": "python",
   "pygments_lexer": "ipython3",
   "version": "3.7.3"
  }
 },
 "nbformat": 4,
 "nbformat_minor": 2
}
