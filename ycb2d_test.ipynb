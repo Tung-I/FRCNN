{
 "cells": [
  {
   "cell_type": "code",
   "execution_count": 1,
   "metadata": {},
   "outputs": [],
   "source": [
    "import json\n",
    "import os\n",
    "import re\n",
    "from pathlib import Path\n",
    "import numpy as np\n",
    "import cv2\n",
    "import copy\n",
    "import random\n",
    "import xml.etree.ElementTree as ET\n",
    "from PIL import Image\n",
    "from matplotlib import pyplot as plt\n",
    "from tqdm import tqdm_notebook as tqdm\n",
    "from pycocotools.coco import COCO"
   ]
  },
  {
   "cell_type": "markdown",
   "metadata": {},
   "source": [
    "### test 1, 2, 3, 4"
   ]
  },
  {
   "cell_type": "code",
   "execution_count": 3,
   "metadata": {},
   "outputs": [],
   "source": [
    "cls_names = ['cube', 'can', 'box', 'bottle']\n",
    "clsname2ind = {'cube':1, 'can':2, 'box':3, 'bottle':4}\n",
    "# create category\n",
    "data_categories = []\n",
    "for cat in cls_names:   \n",
    "    cat_id  = clsname2ind[cat]\n",
    "    dic = {}\n",
    "    dic['supercategory'] = 'None'\n",
    "    dic['id'] = cat_id\n",
    "    dic['name'] = cat\n",
    "    data_categories.append(dic)\n",
    "    \n",
    "cls1_inds = range(50)\n",
    "cls2_inds = range(50, 100)\n",
    "cls3_inds = range(100, 150)\n",
    "cls4_inds = range(150, 200)"
   ]
  },
  {
   "cell_type": "code",
   "execution_count": 7,
   "metadata": {},
   "outputs": [],
   "source": [
    "data_root = '/home/tony/YCB_simulation/query'\n",
    "im_dir = os.path.join(data_root, 'images')\n",
    "nd_dir = os.path.join(data_root, 'ndarray')\n",
    "ann_cnt = 0\n",
    "test_images = []\n",
    "test_annotations = []\n",
    "\n",
    "for n, inds in enumerate([cls1_inds, cls2_inds, cls3_inds, cls4_inds]):\n",
    "    target_cls_id = n + 1\n",
    "    for i in inds:\n",
    "        # im\n",
    "        im_file_name = str(i).zfill(6) + '.jpg'\n",
    "        dic = {}\n",
    "        dic['license'] = 1\n",
    "        dic['file_name'] = im_file_name\n",
    "        dic['coco_url'] = 'http://farm3.staticflickr.com/2253/1755223462_fabbeb8dc3_z.jpg'\n",
    "        dic['height'] = 256\n",
    "        dic['width'] = 256\n",
    "        dic['date_captured'] = '2013-11-15 13:55:22'\n",
    "        dic['id'] = i\n",
    "        test_images.append(dic)\n",
    "        # ann\n",
    "        ann_file_name = str(i).zfill(6) + '.npy'\n",
    "        boxes = np.load(os.path.join(nd_dir, ann_file_name), allow_pickle=True)\n",
    "        for j in range(boxes.shape[0]):\n",
    "            box = boxes[j]\n",
    "            cls_id = int(box[4])\n",
    "            if cls_id != target_cls_id:\n",
    "                continue\n",
    "            ann_dic = {}\n",
    "            ann_dic['segmentation'] = [[184.05]]\n",
    "            ann_dic['area'] = 1.28\n",
    "            ann_dic['iscrowd'] = 0\n",
    "            ann_dic['image_id'] = i\n",
    "            ann_dic['bbox'] = [int(box[0]), int(box[1]), int(box[2]) - int(box[0]), int(box[3]) - int(box[1])]\n",
    "            ann_dic['category_id'] = cls_id\n",
    "            ann_dic['id'] = int(str(i)+str(j))\n",
    "            test_annotations.append(ann_dic)\n",
    "\n",
    "coco_json_path = '/home/tony/datasets/coco/annotations/instances_minival2014.json'\n",
    "with open(coco_json_path, 'r') as f:\n",
    "    data = json.load(f)\n",
    "_info = data['info']\n",
    "_licenses = data['licenses']\n",
    "\n",
    "new_dict = {}\n",
    "new_dict['info'] = _info\n",
    "new_dict['images'] = test_images\n",
    "new_dict['licenses'] = _licenses\n",
    "new_dict['annotations'] = test_annotations\n",
    "new_dict['categories'] = data_categories\n",
    "dump_path = f'/home/tony/datasets/YCB2D/annotations/instances_inferencefs.json'\n",
    "with open(dump_path, 'w') as f:\n",
    "    json.dump(new_dict, f)"
   ]
  },
  {
   "cell_type": "code",
   "execution_count": 8,
   "metadata": {},
   "outputs": [
    {
     "name": "stdout",
     "output_type": "stream",
     "text": [
      "loading annotations into memory...\n",
      "Done (t=0.01s)\n",
      "creating index...\n",
      "index created!\n",
      "200\n",
      "1891\n",
      "4\n"
     ]
    }
   ],
   "source": [
    "_COCO = COCO(dump_path)\n",
    "\n",
    "print(len(_COCO.imgs))\n",
    "print(len(_COCO.anns))\n",
    "print(len(_COCO.cats))"
   ]
  },
  {
   "cell_type": "markdown",
   "metadata": {},
   "source": [
    "### oracle test set"
   ]
  },
  {
   "cell_type": "code",
   "execution_count": 35,
   "metadata": {},
   "outputs": [],
   "source": [
    "data_root = '/home/tony/YCB_simulation/query'\n",
    "im_dir = os.path.join(data_root, 'images')\n",
    "nd_dir = os.path.join(data_root, 'ndarray')\n",
    "ann_cnt = 0\n",
    "test_images = []\n",
    "test_annotations = []\n",
    "\n",
    "for i in range(200):\n",
    "    # im\n",
    "    im_file_name = str(i).zfill(6) + '.jpg'\n",
    "    dic = {}\n",
    "    dic['license'] = 1\n",
    "    dic['file_name'] = im_file_name\n",
    "    dic['coco_url'] = 'http://farm3.staticflickr.com/2253/1755223462_fabbeb8dc3_z.jpg'\n",
    "    dic['height'] = 256\n",
    "    dic['width'] = 256\n",
    "    dic['date_captured'] = '2013-11-15 13:55:22'\n",
    "    dic['id'] = i\n",
    "    test_images.append(dic)\n",
    "    # ann\n",
    "    ann_file_name = str(i).zfill(6) + '.npy'\n",
    "    boxes = np.load(os.path.join(nd_dir, ann_file_name), allow_pickle=True)\n",
    "    for j in range(boxes.shape[0]):\n",
    "        box = boxes[j]\n",
    "        cls_id = int(box[4])\n",
    "        dic = {}\n",
    "        dic['segmentation'] = [[184.05]]\n",
    "        dic['area'] = 1.28\n",
    "        dic['iscrowd'] = 0\n",
    "        dic['image_id'] = i\n",
    "        dic['bbox'] = [int(box[0]), int(box[1]), int(box[2]) - int(box[0]), int(box[3]) - int(box[1])]\n",
    "        dic['category_id'] = cls_id\n",
    "        dic['id'] = ann_cnt\n",
    "        ann_cnt += 1\n",
    "        test_annotations.append(dic)"
   ]
  },
  {
   "cell_type": "code",
   "execution_count": 36,
   "metadata": {},
   "outputs": [],
   "source": [
    "coco_json_path = '/home/tony/datasets/coco/annotations/instances_minival2014.json'\n",
    "with open(coco_json_path, 'r') as f:\n",
    "    data = json.load(f)\n",
    "_info = data['info']\n",
    "_licenses = data['licenses']\n",
    "\n",
    "new_dict = {}\n",
    "new_dict['info'] = _info\n",
    "new_dict['images'] = test_images\n",
    "new_dict['licenses'] = _licenses\n",
    "new_dict['annotations'] = test_annotations\n",
    "new_dict['categories'] = data_categories\n",
    "dump_path = '/home/tony/datasets/YCB2D/annotations/instances_inference1234.json'\n",
    "with open(dump_path, 'w') as f:\n",
    "    json.dump(new_dict, f)"
   ]
  },
  {
   "cell_type": "code",
   "execution_count": 37,
   "metadata": {},
   "outputs": [
    {
     "name": "stdout",
     "output_type": "stream",
     "text": [
      "loading annotations into memory...\n",
      "Done (t=0.01s)\n",
      "creating index...\n",
      "index created!\n",
      "200\n",
      "2563\n",
      "4\n"
     ]
    }
   ],
   "source": [
    "_COCO = COCO(dump_path)\n",
    "\n",
    "print(len(_COCO.imgs))\n",
    "print(len(_COCO.anns))\n",
    "print(len(_COCO.cats))"
   ]
  },
  {
   "cell_type": "markdown",
   "metadata": {},
   "source": [
    "### Dense set"
   ]
  },
  {
   "cell_type": "code",
   "execution_count": 16,
   "metadata": {},
   "outputs": [],
   "source": [
    "cls_names = ['cube', 'can', 'box', 'bottle']\n",
    "clsname2ind = {'cube':1, 'can':2, 'box':3, 'bottle':4}\n",
    "# create category\n",
    "data_categories = []\n",
    "for cat in cls_names:   \n",
    "    cat_id  = clsname2ind[cat]\n",
    "    dic = {}\n",
    "    dic['supercategory'] = 'None'\n",
    "    dic['id'] = cat_id\n",
    "    dic['name'] = cat\n",
    "    data_categories.append(dic)\n",
    "cls_im_inds = [list(range(200, 250)), list(range(250, 300)), list(range(300, 350)), list(range(350, 400))]\n",
    "data_root = '/home/tony/YCB_simulation/query'\n",
    "im_dir = os.path.join(data_root, 'images')\n",
    "nd_dir = os.path.join(data_root, 'ndarray')\n",
    "test_images = []\n",
    "test_annotations = []\n",
    "\n",
    "for cls, inds in zip(cls_names, cls_im_inds):\n",
    "    target_cls_id = clsname2ind[cls]\n",
    "    for i in inds:\n",
    "        # im\n",
    "        im_file_name = str(i).zfill(6) + '.jpg'\n",
    "        dic = {}\n",
    "        dic['license'] = 1\n",
    "        dic['file_name'] = im_file_name\n",
    "        dic['coco_url'] = 'http://farm3.staticflickr.com/2253/1755223462_fabbeb8dc3_z.jpg'\n",
    "        dic['height'] = 256\n",
    "        dic['width'] = 256\n",
    "        dic['date_captured'] = '2013-11-15 13:55:22'\n",
    "        dic['id'] = i\n",
    "        test_images.append(dic)\n",
    "        # ann\n",
    "        ann_file_name = str(i).zfill(6) + '.npy'\n",
    "        boxes = np.load(os.path.join(nd_dir, ann_file_name), allow_pickle=True)\n",
    "        for j in range(boxes.shape[0]):\n",
    "            box = boxes[j]\n",
    "            cls_id = int(box[4])\n",
    "            if cls_id != target_cls_id:\n",
    "                continue\n",
    "            dic = {}\n",
    "            dic['segmentation'] = [[184.05]]\n",
    "            dic['area'] = 1.28\n",
    "            dic['iscrowd'] = 0\n",
    "            dic['image_id'] = i\n",
    "            dic['bbox'] = [int(box[0]), int(box[1]), int(box[2]) - int(box[0]), int(box[3]) - int(box[1])]\n",
    "            dic['category_id'] = cls_id\n",
    "            dic['id'] = int(str(i)+str(j))\n",
    "            test_annotations.append(dic)\n",
    "coco_json_path = '/home/tony/datasets/coco/annotations/instances_minival2014.json'\n",
    "with open(coco_json_path, 'r') as f:\n",
    "    data = json.load(f)\n",
    "_info = data['info']\n",
    "_licenses = data['licenses']\n",
    "\n",
    "new_dict = {}\n",
    "new_dict['info'] = _info\n",
    "new_dict['images'] = test_images\n",
    "new_dict['licenses'] = _licenses\n",
    "new_dict['annotations'] = test_annotations\n",
    "new_dict['categories'] = data_categories\n",
    "dump_path = '/home/tony/datasets/YCB2D/annotations/instances_inferencefsdense.json'\n",
    "with open(dump_path, 'w') as f:\n",
    "    json.dump(new_dict, f)"
   ]
  },
  {
   "cell_type": "code",
   "execution_count": 17,
   "metadata": {},
   "outputs": [
    {
     "name": "stdout",
     "output_type": "stream",
     "text": [
      "loading annotations into memory...\n",
      "Done (t=0.07s)\n",
      "creating index...\n",
      "index created!\n",
      "200\n",
      "3694\n",
      "4\n"
     ]
    }
   ],
   "source": [
    "_COCO = COCO(dump_path)\n",
    "\n",
    "print(len(_COCO.imgs))\n",
    "print(len(_COCO.anns))\n",
    "print(len(_COCO.cats))"
   ]
  },
  {
   "cell_type": "code",
   "execution_count": 18,
   "metadata": {},
   "outputs": [],
   "source": [
    "cls_names = ['cube', 'can', 'box', 'bottle']\n",
    "clsname2ind = {'cube':1, 'can':2, 'box':3, 'bottle':4}\n",
    "# create category\n",
    "data_categories = []\n",
    "for cat in cls_names:   \n",
    "    cat_id  = clsname2ind[cat]\n",
    "    dic = {}\n",
    "    dic['supercategory'] = 'None'\n",
    "    dic['id'] = cat_id\n",
    "    dic['name'] = cat\n",
    "    data_categories.append(dic)\n",
    "cls_im_inds = [list(range(200, 250)), list(range(250, 300)), list(range(300, 350)), list(range(350, 400))]\n",
    "data_root = '/home/tony/YCB_simulation/query'\n",
    "im_dir = os.path.join(data_root, 'images')\n",
    "nd_dir = os.path.join(data_root, 'ndarray')\n",
    "test_images = []\n",
    "test_annotations = []\n",
    "\n",
    "for cls, inds in zip(cls_names, cls_im_inds):\n",
    "    for i in inds:\n",
    "        # im\n",
    "        im_file_name = str(i).zfill(6) + '.jpg'\n",
    "        dic = {}\n",
    "        dic['license'] = 1\n",
    "        dic['file_name'] = im_file_name\n",
    "        dic['coco_url'] = 'http://farm3.staticflickr.com/2253/1755223462_fabbeb8dc3_z.jpg'\n",
    "        dic['height'] = 256\n",
    "        dic['width'] = 256\n",
    "        dic['date_captured'] = '2013-11-15 13:55:22'\n",
    "        dic['id'] = i\n",
    "        test_images.append(dic)\n",
    "        # ann\n",
    "        ann_file_name = str(i).zfill(6) + '.npy'\n",
    "        boxes = np.load(os.path.join(nd_dir, ann_file_name), allow_pickle=True)\n",
    "        for j in range(boxes.shape[0]):\n",
    "            box = boxes[j]\n",
    "            cls_id = int(box[4])\n",
    "            dic = {}\n",
    "            dic['segmentation'] = [[184.05]]\n",
    "            dic['area'] = 1.28\n",
    "            dic['iscrowd'] = 0\n",
    "            dic['image_id'] = i\n",
    "            dic['bbox'] = [int(box[0]), int(box[1]), int(box[2]) - int(box[0]), int(box[3]) - int(box[1])]\n",
    "            dic['category_id'] = cls_id\n",
    "            dic['id'] = int(str(i)+str(j))\n",
    "            test_annotations.append(dic)\n",
    "coco_json_path = '/home/tony/datasets/coco/annotations/instances_minival2014.json'\n",
    "with open(coco_json_path, 'r') as f:\n",
    "    data = json.load(f)\n",
    "_info = data['info']\n",
    "_licenses = data['licenses']\n",
    "\n",
    "new_dict = {}\n",
    "new_dict['info'] = _info\n",
    "new_dict['images'] = test_images\n",
    "new_dict['licenses'] = _licenses\n",
    "new_dict['annotations'] = test_annotations\n",
    "new_dict['categories'] = data_categories\n",
    "dump_path = '/home/tony/datasets/YCB2D/annotations/instances_inferencedense.json'\n",
    "with open(dump_path, 'w') as f:\n",
    "    json.dump(new_dict, f)"
   ]
  },
  {
   "cell_type": "code",
   "execution_count": 19,
   "metadata": {},
   "outputs": [
    {
     "name": "stdout",
     "output_type": "stream",
     "text": [
      "loading annotations into memory...\n",
      "Done (t=0.01s)\n",
      "creating index...\n",
      "index created!\n",
      "200\n",
      "4001\n",
      "4\n"
     ]
    }
   ],
   "source": [
    "_COCO = COCO(dump_path)\n",
    "\n",
    "print(len(_COCO.imgs))\n",
    "print(len(_COCO.anns))\n",
    "print(len(_COCO.cats))"
   ]
  },
  {
   "cell_type": "code",
   "execution_count": null,
   "metadata": {},
   "outputs": [],
   "source": []
  }
 ],
 "metadata": {
  "kernelspec": {
   "display_name": "rcnn36",
   "language": "python",
   "name": "rcnn36"
  },
  "language_info": {
   "codemirror_mode": {
    "name": "ipython",
    "version": 3
   },
   "file_extension": ".py",
   "mimetype": "text/x-python",
   "name": "python",
   "nbconvert_exporter": "python",
   "pygments_lexer": "ipython3",
   "version": "3.7.3"
  }
 },
 "nbformat": 4,
 "nbformat_minor": 2
}
