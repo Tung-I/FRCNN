{
 "cells": [
  {
   "cell_type": "code",
   "execution_count": 3,
   "metadata": {},
   "outputs": [],
   "source": [
    "import json\n",
    "import os\n",
    "import re\n",
    "from pathlib import Path\n",
    "import numpy as np\n",
    "import cv2\n",
    "import copy\n",
    "import random\n",
    "import xml.etree.ElementTree as ET\n",
    "from PIL import Image\n",
    "from matplotlib import pyplot as plt\n",
    "from tqdm import tqdm_notebook as tqdm\n",
    "from pycocotools.coco import COCO"
   ]
  },
  {
   "cell_type": "code",
   "execution_count": 4,
   "metadata": {},
   "outputs": [],
   "source": [
    "cls_names = ['cube', 'can', 'box', 'bottle']\n",
    "clsname2ind = {'cube':0, 'can':1, 'box':2, 'bottle':3}\n",
    "# create category\n",
    "data_categories = []\n",
    "for cat in cls_names:   \n",
    "    cat_id  = clsname2ind[cat]\n",
    "    dic = {}\n",
    "    dic['supercategory'] = 'None'\n",
    "    dic['id'] = cat_id\n",
    "    dic['name'] = cat\n",
    "    data_categories.append(dic)"
   ]
  },
  {
   "cell_type": "code",
   "execution_count": 5,
   "metadata": {},
   "outputs": [],
   "source": [
    "data_root = '/home/tony/YCB_simulation/query'\n",
    "im_dir = os.path.join(data_root, 'images')\n",
    "nd_dir = os.path.join(data_root, 'ndarray')\n",
    "ann_cnt = 0\n",
    "test_images = []\n",
    "test_annotations = []\n",
    "\n",
    "for i in range(200):\n",
    "    if i >=0 and i < 50:\n",
    "        target_cls_id = 0\n",
    "    elif i >= 50 and i < 100:\n",
    "        target_cls_id = 1\n",
    "    elif i >= 100 and i < 150:\n",
    "        target_cls_id = 2\n",
    "    elif i >= 150 and i < 200:\n",
    "        target_cls_id = 3\n",
    "    # im\n",
    "    im_file_name = str(i).zfill(6) + '.jpg'\n",
    "    dic = {}\n",
    "    dic['license'] = 1\n",
    "    dic['file_name'] = im_file_name\n",
    "    dic['coco_url'] = 'http://farm3.staticflickr.com/2253/1755223462_fabbeb8dc3_z.jpg'\n",
    "    dic['height'] = 256\n",
    "    dic['width'] = 256\n",
    "    dic['date_captured'] = '2013-11-15 13:55:22'\n",
    "    dic['id'] = i\n",
    "    test_images.append(dic)\n",
    "    # ann\n",
    "    ann_file_name = str(i).zfill(6) + '.npy'\n",
    "    boxes = np.load(os.path.join(nd_dir, ann_file_name), allow_pickle=True)\n",
    "    for j in range(boxes.shape[0]):\n",
    "        box = boxes[j]\n",
    "        cls_id = int(box[4])\n",
    "        if cls_id != target_cls_id:\n",
    "            continue\n",
    "        dic = {}\n",
    "        dic['segmentation'] = [[184.05]]\n",
    "        dic['area'] = 1.28\n",
    "        dic['iscrowd'] = 0\n",
    "        dic['image_id'] = i\n",
    "        dic['bbox'] = [int(box[0]), int(box[1]), int(box[2]) - int(box[0]), int(box[3]) - int(box[1])]\n",
    "        dic['category_id'] = cls_id\n",
    "        dic['id'] = ann_cnt\n",
    "        ann_cnt += 1\n",
    "        test_annotations.append(dic)"
   ]
  },
  {
   "cell_type": "code",
   "execution_count": 6,
   "metadata": {},
   "outputs": [],
   "source": [
    "coco_json_path = '/home/tony/datasets/coco/annotations/instances_minival2014.json'\n",
    "with open(coco_json_path, 'r') as f:\n",
    "    data = json.load(f)\n",
    "_info = data['info']\n",
    "_licenses = data['licenses']\n",
    "\n",
    "new_dict = {}\n",
    "new_dict['info'] = _info\n",
    "new_dict['images'] = test_images\n",
    "new_dict['licenses'] = _licenses\n",
    "new_dict['annotations'] = test_annotations\n",
    "new_dict['categories'] = data_categories\n",
    "dump_path = '/home/tony/datasets/YCB2D/annotations/instances_inference50.json'\n",
    "with open(dump_path, 'w') as f:\n",
    "    json.dump(new_dict, f)"
   ]
  },
  {
   "cell_type": "code",
   "execution_count": 7,
   "metadata": {},
   "outputs": [
    {
     "name": "stdout",
     "output_type": "stream",
     "text": [
      "loading annotations into memory...\n",
      "Done (t=0.01s)\n",
      "creating index...\n",
      "index created!\n",
      "200\n",
      "2000\n",
      "4\n"
     ]
    }
   ],
   "source": [
    "_COCO = COCO(dump_path)\n",
    "\n",
    "print(len(_COCO.imgs))\n",
    "print(len(_COCO.anns))\n",
    "print(len(_COCO.cats))"
   ]
  },
  {
   "cell_type": "code",
   "execution_count": null,
   "metadata": {},
   "outputs": [],
   "source": []
  }
 ],
 "metadata": {
  "kernelspec": {
   "display_name": "rcnn36",
   "language": "python",
   "name": "rcnn36"
  },
  "language_info": {
   "codemirror_mode": {
    "name": "ipython",
    "version": 3
   },
   "file_extension": ".py",
   "mimetype": "text/x-python",
   "name": "python",
   "nbconvert_exporter": "python",
   "pygments_lexer": "ipython3",
   "version": "3.7.3"
  }
 },
 "nbformat": 4,
 "nbformat_minor": 2
}
