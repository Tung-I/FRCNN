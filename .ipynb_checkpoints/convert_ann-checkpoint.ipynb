{
 "cells": [
  {
   "cell_type": "code",
   "execution_count": 11,
   "metadata": {},
   "outputs": [],
   "source": [
    "import json\n",
    "import os\n",
    "import re\n",
    "from pathlib import Path\n",
    "import numpy as np\n",
    "import cv2\n",
    "import copy\n",
    "import random\n",
    "import xml.etree.ElementTree as ET\n",
    "from PIL import Image\n",
    "from matplotlib import pyplot as plt\n",
    "from tqdm import tqdm_notebook as tqdm\n",
    "from pycocotools.coco import COCO"
   ]
  },
  {
   "cell_type": "code",
   "execution_count": 12,
   "metadata": {},
   "outputs": [],
   "source": [
    "cls_names = ['cube', 'can', 'box', 'bottle']\n",
    "clsname2ind = {'cube':0, 'can':1, 'box':2, 'bottle':3}\n",
    "cls_im_inds = [list(range(1000, 1010)), list(range(1010, 1020)), list(range(1020, 1030)), list(range(1030, 1040))]"
   ]
  },
  {
   "cell_type": "code",
   "execution_count": 13,
   "metadata": {},
   "outputs": [],
   "source": [
    "# create category\n",
    "data_categories = []\n",
    "for cls_name in cls_names:   \n",
    "    dic = {}\n",
    "    dic['supercategory'] = 'None'\n",
    "    dic['id'] = clsname2ind[cls_name]\n",
    "    dic['name'] = cls_name\n",
    "    data_categories.append(dic)"
   ]
  },
  {
   "cell_type": "code",
   "execution_count": 14,
   "metadata": {},
   "outputs": [],
   "source": [
    "ann_dir = '/home/tony/YCB_simulation/output/cisa_iter1'"
   ]
  },
  {
   "cell_type": "code",
   "execution_count": 16,
   "metadata": {},
   "outputs": [],
   "source": [
    "ann_cnt = 0\n",
    "data_images = []\n",
    "data_annotations = []\n",
    "for cls, inds in zip(cls_names, cls_im_inds):\n",
    "    for ind in inds:\n",
    "        im_file_name = str(ind).zfill(6) + '.jpg'\n",
    "        dic = {}\n",
    "        dic['license'] = 1\n",
    "        dic['file_name'] = im_file_name\n",
    "        dic['coco_url'] = 'http://farm3.staticflickr.com/2253/1755223462_fabbeb8dc3_z.jpg'\n",
    "        dic['height'] = 256\n",
    "        dic['width'] = 256\n",
    "        dic['date_captured'] = '2013-11-15 13:55:22'\n",
    "        dic['id'] = ind\n",
    "        data_images.append(dic)\n",
    "        \n",
    "        ann_file_name = str(ind).zfill(6) + '.npy'\n",
    "        boxes = np.load(os.path.join(ann_dir, ann_file_name), allow_pickle=True)\n",
    "        for j in range(boxes.shape[0]):\n",
    "            box = boxes[j]\n",
    "            dic = {}\n",
    "            dic['segmentation'] = [[184.05]]\n",
    "            dic['area'] = 1.28\n",
    "            dic['iscrowd'] = 0\n",
    "            dic['image_id'] = ind\n",
    "            dic['bbox'] = [int(box[0]), int(box[1]), int(box[2]) - int(box[0]), int(box[3]) - int(box[1])]\n",
    "            dic['category_id'] = clsname2ind[cls]\n",
    "            dic['id'] = ann_cnt\n",
    "            ann_cnt += 1\n",
    "            data_annotations.append(dic)"
   ]
  },
  {
   "cell_type": "code",
   "execution_count": 19,
   "metadata": {},
   "outputs": [],
   "source": [
    "coco_json_path = '/home/tony/datasets/coco/annotations/instances_minival2014.json'\n",
    "with open(coco_json_path, 'r') as f:\n",
    "    data = json.load(f)\n",
    "new_dict = {}\n",
    "new_dict['info'] = data['info']\n",
    "new_dict['images'] = data_images\n",
    "new_dict['licenses'] = data['licenses']\n",
    "new_dict['annotations'] = data_annotations\n",
    "new_dict['categories'] = data_categories\n",
    "dump_path = '/home/tony/datasets/YCB2D/annotations/instances_inference11.json'\n",
    "with open(dump_path, 'w') as f:\n",
    "    json.dump(new_dict, f)"
   ]
  },
  {
   "cell_type": "code",
   "execution_count": 20,
   "metadata": {},
   "outputs": [
    {
     "name": "stdout",
     "output_type": "stream",
     "text": [
      "loading annotations into memory...\n",
      "Done (t=0.00s)\n",
      "creating index...\n",
      "index created!\n",
      "40\n",
      "135\n",
      "4\n"
     ]
    }
   ],
   "source": [
    "_COCO = COCO(dump_path)\n",
    "\n",
    "print(len(_COCO.imgs))\n",
    "print(len(_COCO.anns))\n",
    "print(len(_COCO.cats))"
   ]
  },
  {
   "cell_type": "code",
   "execution_count": null,
   "metadata": {},
   "outputs": [],
   "source": []
  }
 ],
 "metadata": {
  "kernelspec": {
   "display_name": "rcnn36",
   "language": "python",
   "name": "rcnn36"
  },
  "language_info": {
   "codemirror_mode": {
    "name": "ipython",
    "version": 3
   },
   "file_extension": ".py",
   "mimetype": "text/x-python",
   "name": "python",
   "nbconvert_exporter": "python",
   "pygments_lexer": "ipython3",
   "version": "3.7.3"
  }
 },
 "nbformat": 4,
 "nbformat_minor": 2
}
